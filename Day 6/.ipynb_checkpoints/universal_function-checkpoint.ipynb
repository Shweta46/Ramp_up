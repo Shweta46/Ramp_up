{
 "cells": [
  {
   "cell_type": "code",
   "execution_count": 1,
   "id": "4da56bb2-a33e-44e3-a5c7-bb0967d068d8",
   "metadata": {},
   "outputs": [],
   "source": [
    "import numpy as np"
   ]
  },
  {
   "cell_type": "code",
   "execution_count": 2,
   "id": "b29b9c78-152f-43d4-b3b6-6459a716d641",
   "metadata": {},
   "outputs": [],
   "source": [
    "arr1 = np.array([1, 2, 3, 4])\n",
    "arr2 = np.array([5, 6, 7, 8])"
   ]
  },
  {
   "cell_type": "code",
   "execution_count": 3,
   "id": "3412b8ca-ce5f-4652-9972-1b17c1bf5827",
   "metadata": {},
   "outputs": [
    {
     "data": {
      "text/plain": [
       "array([ 6,  8, 10, 12])"
      ]
     },
     "execution_count": 3,
     "metadata": {},
     "output_type": "execute_result"
    }
   ],
   "source": [
    "result = np.add(arr1, arr2)\n",
    "result"
   ]
  },
  {
   "cell_type": "code",
   "execution_count": 4,
   "id": "8336e5e6-4fe1-4405-8582-3c6d71b6439c",
   "metadata": {},
   "outputs": [
    {
     "data": {
      "text/plain": [
       "array([-4, -4, -4, -4])"
      ]
     },
     "execution_count": 4,
     "metadata": {},
     "output_type": "execute_result"
    }
   ],
   "source": [
    "result = np.subtract(arr1, arr2)\n",
    "result"
   ]
  },
  {
   "cell_type": "code",
   "execution_count": 6,
   "id": "24cf7abf-fd57-47ce-90f9-ecf423165259",
   "metadata": {},
   "outputs": [
    {
     "data": {
      "text/plain": [
       "array([ 5, 12, 21, 32])"
      ]
     },
     "execution_count": 6,
     "metadata": {},
     "output_type": "execute_result"
    }
   ],
   "source": [
    "result =  np.multiply(arr1, arr2)\n",
    "result"
   ]
  },
  {
   "cell_type": "markdown",
   "id": "b60a23d5-a23e-4379-b026-24221a7801b5",
   "metadata": {},
   "source": [
    "#### Data science operations:"
   ]
  },
  {
   "cell_type": "markdown",
   "id": "b0fa3293-d0cb-4e84-bb37-2932778617d6",
   "metadata": {},
   "source": [
    "1. Filtering"
   ]
  },
  {
   "cell_type": "code",
   "execution_count": 7,
   "id": "49d51827-d48b-44b1-b243-bfd44429f6f8",
   "metadata": {},
   "outputs": [
    {
     "data": {
      "text/plain": [
       "array([90, 50,  8, 40, 10, 50, 30])"
      ]
     },
     "execution_count": 7,
     "metadata": {},
     "output_type": "execute_result"
    }
   ],
   "source": [
    "arr = np.random.randint(1, 101, 10)\n",
    "even_numbers = arr[arr%2==0]\n",
    "even_numbers"
   ]
  },
  {
   "cell_type": "code",
   "execution_count": 8,
   "id": "ada7184f-517a-45ce-b8d9-2a735d092fd8",
   "metadata": {},
   "outputs": [
    {
     "data": {
      "text/plain": [
       "array([90])"
      ]
     },
     "execution_count": 8,
     "metadata": {},
     "output_type": "execute_result"
    }
   ],
   "source": [
    "above_threshold = arr[arr > 50]\n",
    "above_threshold"
   ]
  },
  {
   "cell_type": "code",
   "execution_count": 9,
   "id": "b7e70845-8cf7-482f-9560-12a6056d8a34",
   "metadata": {},
   "outputs": [],
   "source": [
    "arr = np.linspace(1, 100, 2)"
   ]
  },
  {
   "cell_type": "code",
   "execution_count": 11,
   "id": "c246fa2c-64b8-43e3-8e87-483489aac81a",
   "metadata": {},
   "outputs": [
    {
     "name": "stdout",
     "output_type": "stream",
     "text": [
      "<class 'numpy.ndarray'>\n"
     ]
    }
   ],
   "source": [
    "print(type(arr))"
   ]
  },
  {
   "cell_type": "markdown",
   "id": "af5dff49-f27b-43c7-91bb-7ec01a58aceb",
   "metadata": {},
   "source": [
    "2. Ordering"
   ]
  },
  {
   "cell_type": "code",
   "execution_count": 114,
   "id": "a64deb17-de95-428a-a086-448b0530448b",
   "metadata": {},
   "outputs": [],
   "source": [
    "arr = np.array([[1, 22, 31, 40], [50, 6, 72, 8]])"
   ]
  },
  {
   "cell_type": "code",
   "execution_count": 20,
   "id": "61239475-c6ba-4aa3-8591-3ff9a342d853",
   "metadata": {},
   "outputs": [
    {
     "data": {
      "text/plain": [
       "array([[ 1,  6, 31,  8],\n",
       "       [50, 22, 72, 40]])"
      ]
     },
     "execution_count": 20,
     "metadata": {},
     "output_type": "execute_result"
    }
   ],
   "source": [
    "np.sort(arr, axis=0)"
   ]
  },
  {
   "cell_type": "markdown",
   "id": "415a92e0-711d-459a-9846-9ccdfb360a12",
   "metadata": {},
   "source": [
    "To sort the array based on a particular column:"
   ]
  },
  {
   "cell_type": "code",
   "execution_count": 21,
   "id": "dedd6fe5-ff0b-48f4-b846-c68ca0e637a6",
   "metadata": {},
   "outputs": [],
   "source": [
    "arr = np.array([[5, 4, 6], [2, 3, 1], [8, 7, 9]])"
   ]
  },
  {
   "cell_type": "code",
   "execution_count": 22,
   "id": "7f02acd5-3bff-4a22-bdd7-5344bd43f98d",
   "metadata": {},
   "outputs": [
    {
     "data": {
      "text/plain": [
       "array([1, 0, 2])"
      ]
     },
     "execution_count": 22,
     "metadata": {},
     "output_type": "execute_result"
    }
   ],
   "source": [
    "sorted_indices = arr[:, 1].argsort()\n",
    "sorted_indices"
   ]
  },
  {
   "cell_type": "code",
   "execution_count": 23,
   "id": "a637bf6c-349c-4fbd-ab1a-73979c48df7d",
   "metadata": {},
   "outputs": [],
   "source": [
    "sorted_arr = arr[sorted_indices]"
   ]
  },
  {
   "cell_type": "code",
   "execution_count": 24,
   "id": "f69a5eea-4f02-4003-bb09-3bdeb3415ebc",
   "metadata": {},
   "outputs": [
    {
     "data": {
      "text/plain": [
       "array([[2, 3, 1],\n",
       "       [5, 4, 6],\n",
       "       [8, 7, 9]])"
      ]
     },
     "execution_count": 24,
     "metadata": {},
     "output_type": "execute_result"
    }
   ],
   "source": [
    "sorted_arr"
   ]
  },
  {
   "cell_type": "code",
   "execution_count": 25,
   "id": "095fb2f1-038e-4d24-bb86-b846a11cbfbf",
   "metadata": {},
   "outputs": [],
   "source": [
    "a = np.random.rand(1000)"
   ]
  },
  {
   "cell_type": "code",
   "execution_count": 29,
   "id": "69fb400c-ccb6-4df6-9600-f5a066da9f3e",
   "metadata": {},
   "outputs": [
    {
     "data": {
      "text/plain": [
       "array([ True, False,  True])"
      ]
     },
     "execution_count": 29,
     "metadata": {},
     "output_type": "execute_result"
    }
   ],
   "source": [
    "import numpy as np\n",
    "\n",
    "# Creating an array of boolean values\n",
    "arr_bool = np.array([True, False, True], dtype=bool)\n",
    "arr_bool"
   ]
  },
  {
   "cell_type": "code",
   "execution_count": 30,
   "id": "c516a91f-c3a5-47ac-b15c-cb6fdf8b4cf8",
   "metadata": {},
   "outputs": [
    {
     "data": {
      "text/plain": [
       "array([1. , 2.5, 3.7])"
      ]
     },
     "execution_count": 30,
     "metadata": {},
     "output_type": "execute_result"
    }
   ],
   "source": [
    "arr_float = np.array([1.0, 2.5, 3.7], dtype=np.float64)\n",
    "arr_float"
   ]
  },
  {
   "cell_type": "code",
   "execution_count": 32,
   "id": "bf0fcca5-f28a-4f5f-8f07-07d7ce3dc228",
   "metadata": {},
   "outputs": [
    {
     "data": {
      "text/plain": [
       "array([1, 2, 3], dtype=int32)"
      ]
     },
     "execution_count": 32,
     "metadata": {},
     "output_type": "execute_result"
    }
   ],
   "source": [
    "arr_int = np.array([1, 2, 3], dtype=np.int32)\n",
    "arr_int"
   ]
  },
  {
   "cell_type": "code",
   "execution_count": 34,
   "id": "2eb43740-9f17-417b-ab16-2312c39b8da8",
   "metadata": {},
   "outputs": [
    {
     "data": {
      "text/plain": [
       "numpy.ndarray"
      ]
     },
     "execution_count": 34,
     "metadata": {},
     "output_type": "execute_result"
    }
   ],
   "source": [
    "arr_complex = np.array([1 + 2j, 3 + 4j, 5 + 6j], dtype=np.complex128)\n",
    "type(arr_complex)"
   ]
  },
  {
   "cell_type": "code",
   "execution_count": 35,
   "id": "d8543829-a006-4c43-9399-81739c0797c4",
   "metadata": {},
   "outputs": [
    {
     "name": "stdout",
     "output_type": "stream",
     "text": [
      "['Alice' 'Bob' 'Charlie']\n",
      "[25 30 35]\n"
     ]
    }
   ],
   "source": [
    "data = np.array([('Alice', 25), ('Bob', 30), ('Charlie', 35)],\n",
    "                dtype=[('name', 'U10'), ('age', int)])\n",
    "\n",
    "# Accessing elements by field name\n",
    "print(data['name'])\n",
    "print(data['age'])\n"
   ]
  },
  {
   "cell_type": "code",
   "execution_count": 40,
   "id": "bffdd44d-b165-432b-858a-476d1dfca751",
   "metadata": {},
   "outputs": [
    {
     "name": "stdout",
     "output_type": "stream",
     "text": [
      "[b'Alice' b'Bob' b'Charlie']\n"
     ]
    }
   ],
   "source": [
    "dt = np.dtype([('name', 'S10'), ('age', 'i4'), ('weight', 'f4')])\n",
    "data = np.array([('Alice', 25, 55.5), ('Bob', 30, 65), ('Charlie', 35, 75)], dtype=dt)\n",
    "print(data['name'])"
   ]
  },
  {
   "cell_type": "code",
   "execution_count": 43,
   "id": "b995d105-de92-4ea9-b3a6-262d2c816b07",
   "metadata": {},
   "outputs": [
    {
     "data": {
      "text/plain": [
       "27"
      ]
     },
     "execution_count": 43,
     "metadata": {},
     "output_type": "execute_result"
    }
   ],
   "source": [
    "arr = np.random.randint(0, 100) # returns a single integer\n",
    "arr "
   ]
  },
  {
   "cell_type": "code",
   "execution_count": 47,
   "id": "b369ea3b-cc6f-42d8-95da-a6513c370bdb",
   "metadata": {},
   "outputs": [
    {
     "data": {
      "text/plain": [
       "array([3.05594134e-01, 9.11329809e-01, 3.10537660e-01, 4.30849615e-01,\n",
       "       5.50773795e-01, 4.80724945e-01, 3.18081329e-01, 4.44505868e-01,\n",
       "       2.76735150e-01, 9.41923564e-01, 5.51923821e-01, 2.84485681e-02,\n",
       "       6.50752297e-01, 4.76668758e-01, 3.70252766e-01, 9.29920598e-01,\n",
       "       2.19700548e-01, 7.14337477e-01, 5.77653762e-01, 9.42843116e-01,\n",
       "       9.84677050e-01, 2.61847364e-01, 8.78452607e-01, 1.52982300e-01,\n",
       "       5.80505926e-01, 3.16715448e-01, 5.58443143e-02, 8.15027370e-01,\n",
       "       2.39749419e-01, 4.99066361e-02, 6.70054760e-02, 1.15816326e-01,\n",
       "       2.10941100e-01, 4.07805865e-01, 1.95633806e-02, 3.13631164e-01,\n",
       "       8.71093325e-01, 6.31188705e-01, 5.00643456e-01, 1.27912607e-01,\n",
       "       9.40182569e-01, 9.54986496e-01, 6.69628310e-01, 1.96105637e-01,\n",
       "       5.34724809e-01, 7.28800505e-01, 6.59830769e-01, 2.79079581e-01,\n",
       "       2.21114264e-01, 9.11624001e-01, 5.33282139e-01, 3.57019688e-01,\n",
       "       6.89146696e-02, 9.41327046e-01, 2.01493880e-01, 1.74689612e-01,\n",
       "       3.15561167e-01, 5.06599002e-01, 2.10959149e-01, 2.49654448e-01,\n",
       "       9.52749728e-01, 7.49878216e-01, 8.30580707e-01, 2.49112142e-01,\n",
       "       7.74660857e-01, 2.39305532e-01, 8.06531649e-01, 9.57709163e-01,\n",
       "       8.07356605e-01, 8.68508189e-01, 9.13120386e-01, 1.21391726e-01,\n",
       "       8.42360248e-01, 2.84699610e-01, 4.29428804e-02, 3.37637865e-01,\n",
       "       9.43392179e-01, 6.98354156e-01, 9.50028073e-02, 6.75276805e-01,\n",
       "       9.17927050e-01, 2.72337643e-01, 8.09968039e-01, 8.33503117e-01,\n",
       "       2.57919583e-01, 7.16711697e-01, 8.32209098e-01, 4.43566055e-02,\n",
       "       8.13544585e-02, 3.33789681e-01, 5.70264260e-01, 4.33781665e-02,\n",
       "       6.82021258e-01, 4.82088481e-01, 9.33060949e-01, 7.02310085e-01,\n",
       "       2.94802599e-01, 1.25332635e-01, 3.23746093e-02, 7.49560121e-02,\n",
       "       9.23213007e-01, 7.62543293e-02, 9.89098215e-01, 7.69049833e-01,\n",
       "       5.10484169e-01, 5.58883084e-01, 6.69507414e-01, 5.51534480e-01,\n",
       "       2.96599878e-01, 4.77094185e-01, 8.34615473e-01, 3.42234496e-01,\n",
       "       7.89656675e-01, 5.27736592e-03, 4.28534168e-01, 7.72922754e-02,\n",
       "       2.61746851e-01, 3.29553227e-02, 4.19135835e-01, 6.21022557e-01,\n",
       "       6.04194701e-01, 7.87683118e-01, 1.22729711e-01, 3.42201385e-01,\n",
       "       6.29171931e-01, 8.20813303e-01, 4.79967984e-01, 7.26927418e-01,\n",
       "       1.42461259e-01, 3.22407322e-01, 3.72108577e-02, 4.37563157e-01,\n",
       "       6.24388711e-01, 9.54201113e-01, 8.36875014e-01, 1.39716581e-01,\n",
       "       4.26720682e-01, 4.81602092e-01, 9.18127060e-01, 3.39944393e-01,\n",
       "       8.82870345e-01, 3.72841649e-01, 2.47892624e-01, 1.00040625e-01,\n",
       "       5.52181113e-01, 2.33463761e-01, 2.10871843e-01, 6.93700947e-01,\n",
       "       7.10519193e-01, 7.62050509e-01, 4.40786663e-01, 5.53075920e-01,\n",
       "       5.41139328e-01, 4.82136963e-01, 5.16827495e-01, 9.99497191e-01,\n",
       "       3.66000835e-01, 5.18325769e-01, 9.58199827e-01, 3.53014461e-01,\n",
       "       2.87956327e-01, 5.61380064e-01, 3.64084491e-02, 2.82166404e-01,\n",
       "       9.37322647e-01, 9.83585966e-01, 9.45753857e-01, 5.87028517e-01,\n",
       "       1.40129421e-01, 4.19580554e-01, 3.71038129e-01, 4.22908026e-01,\n",
       "       3.43213224e-01, 3.92954770e-01, 5.54844718e-01, 3.90472706e-01,\n",
       "       8.77530039e-01, 5.57765361e-01, 4.62474950e-01, 7.73656420e-01,\n",
       "       2.54031040e-01, 4.94204003e-01, 2.10289427e-01, 3.44395414e-01,\n",
       "       9.38986124e-01, 7.67101729e-01, 2.55659447e-01, 4.51730218e-01,\n",
       "       4.86958543e-01, 6.09501956e-01, 6.72231486e-01, 2.82850832e-01,\n",
       "       3.34619980e-01, 1.74869445e-02, 2.09622921e-01, 2.90809957e-01,\n",
       "       3.99986113e-01, 8.84976802e-01, 4.50601706e-01, 2.37651703e-02,\n",
       "       6.71513117e-01, 8.59130174e-01, 1.71483780e-01, 9.96531426e-01,\n",
       "       3.23580451e-01, 4.15343332e-01, 3.92546207e-01, 8.50129092e-02,\n",
       "       1.79568970e-02, 6.13376570e-01, 1.95418212e-01, 2.77847120e-02,\n",
       "       1.07469784e-01, 8.16179533e-01, 7.95065034e-01, 8.15723772e-01,\n",
       "       2.96104491e-01, 7.99484786e-01, 6.31017100e-01, 2.90728485e-01,\n",
       "       8.04345733e-01, 2.55691742e-02, 1.63564076e-01, 4.93383299e-01,\n",
       "       5.74065810e-01, 3.13060794e-01, 2.03906185e-01, 5.15283308e-02,\n",
       "       4.13876112e-01, 9.85571870e-01, 8.27709359e-01, 6.29023971e-01,\n",
       "       5.57695106e-01, 8.03088484e-01, 5.52808429e-01, 6.34312349e-01,\n",
       "       6.32005831e-01, 2.78751091e-01, 4.83657289e-01, 2.55183129e-01,\n",
       "       9.74173315e-01, 6.35717917e-01, 3.09906630e-01, 2.12212761e-01,\n",
       "       6.31217682e-01, 4.87527030e-01, 5.43341599e-01, 2.90785887e-01,\n",
       "       2.96975013e-01, 2.16769684e-03, 5.50389938e-01, 4.27981698e-01,\n",
       "       8.65086141e-01, 9.06409819e-01, 6.88525670e-01, 3.81191408e-01,\n",
       "       2.43149487e-01, 1.13931985e-01, 7.04669053e-01, 3.32813950e-02,\n",
       "       5.31787972e-01, 3.05577355e-01, 3.11067480e-01, 6.00907043e-01,\n",
       "       2.31024975e-01, 8.03142495e-01, 8.35294873e-01, 4.04749261e-01,\n",
       "       4.73481478e-02, 6.57872218e-01, 8.76912587e-01, 8.18923161e-01,\n",
       "       5.11466168e-01, 4.57986447e-01, 1.53700104e-01, 9.83332706e-01,\n",
       "       6.00528265e-01, 2.31704418e-01, 9.61351852e-01, 3.90466414e-01,\n",
       "       6.44973789e-01, 8.67925117e-01, 4.54802990e-01, 9.72073454e-01,\n",
       "       2.26118126e-01, 4.25186786e-01, 8.91788500e-01, 7.28606981e-01,\n",
       "       1.20861307e-01, 9.81492894e-02, 3.15783607e-01, 3.74140825e-01,\n",
       "       2.83307323e-02, 2.67621054e-01, 7.34107291e-01, 7.66491293e-01,\n",
       "       8.53765496e-01, 8.99753300e-01, 4.92821993e-01, 2.67635901e-01,\n",
       "       5.82012095e-01, 9.97713725e-01, 1.80200797e-01, 1.82973819e-01,\n",
       "       9.21520105e-01, 1.48111187e-01, 6.35410412e-01, 8.53249953e-01,\n",
       "       2.21612679e-01, 7.57883271e-01, 3.49853548e-01, 8.94101183e-01,\n",
       "       9.38311596e-01, 7.18015495e-01, 5.94529079e-01, 5.58797827e-01,\n",
       "       3.88180473e-01, 5.13940472e-01, 8.48152898e-01, 3.72592402e-01,\n",
       "       7.80829175e-01, 8.29887492e-01, 6.89230232e-02, 4.15281833e-01,\n",
       "       2.26360585e-02, 6.03072555e-01, 3.18513145e-01, 8.73830776e-01,\n",
       "       6.32536725e-01, 3.07825308e-01, 2.89881240e-01, 7.69870833e-01,\n",
       "       7.66245942e-01, 9.26574733e-01, 3.34333564e-02, 2.89317339e-01,\n",
       "       8.06675191e-01, 2.27525477e-01, 8.58926049e-01, 8.46454919e-01,\n",
       "       8.61543514e-01, 8.20002394e-01, 2.55832565e-01, 2.04161981e-01,\n",
       "       1.07952302e-01, 7.16244777e-01, 8.05888127e-01, 6.27587060e-01,\n",
       "       4.89807767e-01, 8.86476483e-01, 7.05776104e-01, 1.63335831e-01,\n",
       "       5.94410912e-02, 3.68948313e-01, 1.44508441e-01, 2.27418876e-01,\n",
       "       9.65005324e-01, 3.45544797e-01, 3.94096564e-01, 1.57183897e-01,\n",
       "       7.52176706e-01, 4.54214722e-01, 9.00174308e-01, 7.07969318e-01,\n",
       "       4.51485062e-01, 8.00924304e-01, 6.49316639e-01, 1.57424378e-01,\n",
       "       6.44679065e-01, 8.42440280e-01, 7.34957209e-02, 6.90703864e-01,\n",
       "       4.59509670e-01, 6.23997953e-01, 6.98584688e-01, 4.69789793e-02,\n",
       "       3.47407375e-01, 8.17967903e-01, 4.49223115e-01, 9.42863985e-01,\n",
       "       1.41133130e-02, 9.43428106e-01, 6.77985644e-01, 1.33216347e-01,\n",
       "       1.12582823e-01, 1.40769525e-01, 3.44437065e-01, 4.64466077e-01,\n",
       "       6.36399142e-01, 3.23401793e-01, 5.06965409e-01, 8.71965562e-01,\n",
       "       6.36701667e-01, 1.86522065e-01, 4.64192125e-01, 3.40840646e-01,\n",
       "       8.29497220e-01, 8.94400103e-01, 7.39385246e-02, 6.13648886e-01,\n",
       "       3.63472522e-01, 9.48736748e-01, 6.74241686e-01, 7.16118134e-02,\n",
       "       1.51708675e-01, 7.23960238e-01, 4.37960859e-01, 5.97203212e-01,\n",
       "       1.99938461e-01, 9.18134579e-01, 4.73806472e-01, 8.65693193e-01,\n",
       "       9.48963613e-01, 4.41367530e-01, 1.39757768e-01, 3.49328753e-02,\n",
       "       9.30382300e-01, 3.15167720e-01, 9.42407634e-01, 2.53637638e-01,\n",
       "       4.99047424e-01, 4.76036572e-01, 6.55069669e-01, 8.21237913e-01,\n",
       "       5.59957744e-01, 8.52550849e-01, 5.69303162e-01, 7.96387332e-01,\n",
       "       8.30140365e-01, 2.81443002e-01, 3.48587511e-03, 8.17418102e-01,\n",
       "       5.61283356e-01, 6.83914649e-02, 4.37018699e-01, 5.38337652e-01,\n",
       "       7.14275075e-01, 7.62743419e-02, 8.42187165e-01, 1.56624534e-01,\n",
       "       8.66283677e-01, 8.09099961e-01, 1.43037267e-02, 8.61029267e-02,\n",
       "       9.57506325e-03, 5.64920479e-01, 3.07339506e-01, 9.78537746e-01,\n",
       "       2.24300707e-01, 7.71934660e-01, 5.86331338e-02, 3.38244763e-01,\n",
       "       4.43180691e-01, 5.56315824e-01, 3.30087560e-01, 1.45369809e-01,\n",
       "       5.97886924e-01, 7.42096625e-01, 8.07758612e-01, 5.59707049e-01,\n",
       "       4.92821270e-01, 3.32808916e-01, 8.09619828e-02, 2.85148740e-01,\n",
       "       7.17966231e-01, 2.22321365e-01, 6.05964220e-01, 5.56793744e-01,\n",
       "       4.69774936e-01, 2.06035146e-01, 6.90609059e-01, 3.16408784e-01,\n",
       "       4.25667569e-01, 5.94350802e-01, 4.21265248e-01, 4.39075062e-01,\n",
       "       7.53306641e-01, 9.29844597e-01, 4.43654246e-01, 6.14000138e-01,\n",
       "       5.82712305e-02, 8.21562043e-01, 2.54730049e-01, 9.03595588e-01,\n",
       "       8.98945324e-01, 3.56647322e-02, 3.82011812e-01, 9.81064010e-01,\n",
       "       3.73942980e-01, 5.22866191e-01, 8.64963271e-01, 8.07182874e-02,\n",
       "       2.64659758e-01, 4.79956217e-01, 5.08329792e-01, 1.04188363e-01,\n",
       "       2.33162435e-01, 9.69134387e-01, 4.31759386e-01, 1.12376411e-01,\n",
       "       9.38920049e-01, 5.10361411e-01, 6.06948862e-01, 3.55548464e-01,\n",
       "       8.22389900e-01, 7.73188717e-01, 5.45738445e-01, 7.77842700e-01,\n",
       "       7.40860907e-01, 2.42713485e-01, 4.36129772e-01, 1.34972204e-01,\n",
       "       4.45712253e-01, 5.97123098e-01, 7.95883629e-01, 6.66966752e-01,\n",
       "       8.43400079e-01, 5.27771923e-01, 5.10041146e-01, 8.12875020e-01,\n",
       "       3.60719102e-01, 3.01742044e-02, 7.64415377e-01, 4.23278577e-02,\n",
       "       2.54841934e-01, 1.94305646e-01, 5.94300293e-01, 1.35787263e-01,\n",
       "       2.30798937e-02, 8.79436227e-01, 5.04513434e-02, 1.92573683e-01,\n",
       "       8.69147113e-01, 3.07069567e-01, 7.02041164e-01, 9.99960100e-02,\n",
       "       7.75330739e-01, 1.97023718e-01, 1.84412853e-01, 7.10593372e-01,\n",
       "       1.18082439e-02, 8.82778019e-01, 2.14475103e-01, 2.93913882e-01,\n",
       "       7.87253378e-01, 7.97673365e-01, 4.95103304e-01, 5.60598510e-02,\n",
       "       4.21226763e-01, 9.81256309e-02, 7.25222686e-01, 7.48231963e-01,\n",
       "       6.25173929e-01, 3.04490561e-02, 1.19720061e-01, 6.99584474e-01,\n",
       "       4.74866879e-01, 3.25622214e-02, 2.45312649e-01, 3.23774146e-01,\n",
       "       8.39220192e-01, 2.09553720e-01, 8.67660536e-01, 2.23497304e-01,\n",
       "       8.13668247e-01, 6.83200290e-01, 9.26662869e-01, 6.40438402e-01,\n",
       "       2.69075215e-01, 1.24472595e-01, 2.37989471e-01, 3.20463793e-01,\n",
       "       8.81305455e-01, 3.78835638e-01, 2.20879235e-01, 4.77662122e-01,\n",
       "       1.05186249e-01, 8.59327852e-01, 6.01592373e-01, 6.86623433e-01,\n",
       "       5.65359128e-01, 6.96180854e-01, 8.97520906e-01, 6.08870933e-01,\n",
       "       2.03731978e-01, 3.41246944e-01, 9.56319573e-01, 8.47845071e-01,\n",
       "       5.21048849e-01, 1.37960510e-01, 4.16127393e-01, 8.06568888e-01,\n",
       "       4.79295922e-02, 4.04233419e-01, 4.55735497e-01, 2.82758739e-01,\n",
       "       9.41155759e-01, 6.61589146e-01, 7.54799556e-01, 6.54967439e-01,\n",
       "       1.42747329e-01, 8.23477571e-01, 6.97114454e-01, 8.76436074e-01,\n",
       "       4.76024989e-01, 7.81775602e-01, 9.67741561e-01, 3.22636369e-01,\n",
       "       1.08748500e-01, 7.90847757e-01, 7.84821762e-01, 4.32477673e-01,\n",
       "       2.09780694e-01, 4.88643751e-02, 3.00007955e-01, 2.14780583e-01,\n",
       "       9.72384493e-01, 1.64049285e-01, 8.58642915e-01, 4.35399402e-01,\n",
       "       1.99642939e-01, 8.89109291e-01, 8.30627884e-01, 4.35589482e-01,\n",
       "       2.17848156e-01, 7.74907219e-01, 2.18790487e-01, 9.23512289e-01,\n",
       "       7.86134550e-01, 4.35326634e-01, 3.68044115e-01, 3.94804661e-01,\n",
       "       1.23118832e-03, 1.94173792e-01, 2.95470681e-01, 8.84589021e-01,\n",
       "       7.72952462e-01, 9.53081460e-01, 1.76402891e-01, 7.80549622e-01,\n",
       "       3.32199891e-01, 6.91448996e-01, 8.66908683e-02, 5.39332317e-01,\n",
       "       6.40794305e-02, 5.03688431e-01, 9.55027077e-01, 4.64772183e-01,\n",
       "       2.44065241e-01, 9.99260494e-01, 3.65389657e-01, 7.42381220e-01,\n",
       "       3.35092976e-03, 1.48207146e-01, 4.59502387e-02, 9.98224147e-01,\n",
       "       6.22840127e-01, 7.65809896e-01, 4.40512649e-01, 9.73941573e-01,\n",
       "       8.32443752e-01, 7.50855597e-01, 8.23548418e-01, 6.04049636e-02,\n",
       "       5.14198870e-02, 9.82317885e-01, 2.99411494e-01, 5.80352744e-01,\n",
       "       5.22087781e-01, 3.07217471e-01, 4.13747179e-03, 9.45375014e-01,\n",
       "       9.16799854e-01, 6.27288174e-01, 1.33643979e-01, 6.79403340e-01,\n",
       "       5.96031155e-01, 1.52352216e-01, 2.95291207e-01, 5.56825224e-01,\n",
       "       5.84329930e-01, 4.33777137e-01, 2.63831759e-01, 4.07687086e-01,\n",
       "       2.34975933e-01, 5.18425951e-02, 7.08512084e-01, 8.17739813e-01,\n",
       "       9.18843351e-01, 8.63905236e-01, 4.34315368e-01, 4.72625638e-01,\n",
       "       7.77279604e-01, 9.98477215e-01, 5.50939895e-01, 9.35261015e-02,\n",
       "       7.13208708e-01, 5.95542995e-01, 8.97958467e-01, 5.01410498e-01,\n",
       "       9.08002634e-01, 9.43987256e-01, 7.12736620e-01, 3.70904224e-02,\n",
       "       3.84166739e-01, 7.58136424e-01, 8.67496946e-02, 3.56564485e-01,\n",
       "       8.76499040e-01, 6.72443096e-01, 1.61762772e-01, 4.52642434e-01,\n",
       "       1.19165183e-01, 3.60713718e-01, 5.85290994e-01, 2.99320506e-01,\n",
       "       8.79654167e-02, 4.43009854e-01, 8.69689771e-01, 8.54833110e-01,\n",
       "       1.97620842e-01, 5.01667641e-01, 8.63827513e-04, 1.66579130e-01,\n",
       "       6.70264443e-01, 4.67935766e-01, 6.93669407e-01, 9.89303838e-01,\n",
       "       9.56648706e-01, 8.38979950e-01, 1.64206786e-02, 5.15667669e-01,\n",
       "       1.33104423e-01, 1.27962540e-01, 9.10603366e-01, 2.42222116e-01,\n",
       "       1.37009059e-01, 7.16371181e-01, 3.84999948e-01, 1.91665944e-01,\n",
       "       6.67334214e-01, 1.89275912e-01, 1.97318386e-01, 6.84511864e-01,\n",
       "       5.86279793e-01, 6.34590487e-01, 1.61336721e-01, 8.45339449e-01,\n",
       "       1.89287013e-01, 2.60090539e-02, 3.59067550e-01, 9.00099541e-01,\n",
       "       4.08723364e-01, 8.40666857e-01, 8.60397872e-01, 6.93524104e-01,\n",
       "       9.58862995e-01, 9.43729613e-01, 9.92021123e-02, 7.00302950e-01,\n",
       "       5.69319218e-01, 6.06741496e-01, 4.07553701e-01, 7.25345594e-01,\n",
       "       4.18461634e-01, 1.39455182e-01, 6.89578631e-01, 5.30695785e-02,\n",
       "       8.62128721e-01, 1.60173991e-02, 4.74612158e-01, 1.30887994e-01,\n",
       "       5.21704486e-01, 7.18619619e-01, 3.10427304e-01, 6.32045364e-01,\n",
       "       2.43679209e-01, 5.13108465e-01, 6.52075469e-01, 7.46921458e-01,\n",
       "       1.24880168e-01, 6.05902374e-01, 6.05589907e-01, 3.90218147e-01,\n",
       "       1.50895429e-01, 5.71550480e-01, 8.14013363e-01, 5.94725167e-01,\n",
       "       3.82626815e-01, 8.31797556e-01, 9.84380816e-02, 5.94847811e-01,\n",
       "       7.63230631e-01, 6.86295671e-01, 1.27106645e-01, 6.38268773e-01,\n",
       "       6.30801120e-01, 4.95219300e-01, 5.39742354e-01, 4.24593414e-01,\n",
       "       6.15574085e-02, 6.42646834e-01, 5.17856286e-01, 8.43147414e-01,\n",
       "       6.49813533e-01, 7.74071646e-01, 4.02300285e-01, 9.34957924e-01,\n",
       "       5.17203807e-03, 1.74704993e-01, 6.43540655e-01, 8.61468908e-01,\n",
       "       7.81067045e-01, 3.77932000e-01, 8.29009305e-01, 9.01429052e-01,\n",
       "       8.48321691e-01, 3.50025097e-01, 1.30414773e-01, 7.91354781e-01,\n",
       "       8.71887433e-01, 3.93916354e-01, 3.63009745e-01, 5.12112805e-01,\n",
       "       4.97366681e-01, 6.31097018e-01, 9.95143962e-01, 5.75286325e-01,\n",
       "       9.06438155e-01, 7.82981344e-01, 9.16561712e-01, 9.75834164e-01,\n",
       "       5.82889027e-01, 2.47989334e-01, 7.34521254e-01, 8.83919342e-01,\n",
       "       3.77522483e-01, 2.42681778e-01, 5.10291198e-01, 1.82652036e-01,\n",
       "       3.25662725e-01, 9.18242130e-01, 6.72110886e-01, 9.50662202e-01,\n",
       "       3.25889959e-01, 7.17255635e-01, 7.43238726e-01, 5.66303734e-01,\n",
       "       4.53589272e-01, 2.08316590e-01, 4.47203212e-01, 7.91086942e-01,\n",
       "       7.70459835e-01, 9.76664002e-01, 8.76063354e-01, 3.72184137e-01,\n",
       "       9.48874388e-01, 8.25267028e-01, 9.73091851e-01, 7.96761573e-01,\n",
       "       2.71927094e-02, 3.82557598e-01, 2.88313596e-01, 8.39151628e-01,\n",
       "       3.20253801e-02, 5.91634465e-01, 3.02849171e-02, 7.44384388e-01,\n",
       "       8.87431713e-02, 7.95532321e-02, 5.90527683e-01, 6.43106445e-01,\n",
       "       7.87680278e-01, 4.07383999e-01, 2.67261908e-01, 6.37904069e-01,\n",
       "       4.63128953e-02, 6.30044333e-01, 5.88979475e-01, 4.81690004e-01,\n",
       "       4.78614917e-01, 8.36586829e-01, 7.75322903e-01, 9.79326585e-01,\n",
       "       3.49119713e-01, 5.46384061e-01, 4.56204343e-01, 5.78827906e-01,\n",
       "       8.30424756e-01, 9.40852583e-01, 8.06738004e-01, 5.99124780e-01,\n",
       "       1.10092867e-02, 7.63860256e-01, 4.66726386e-01, 2.07193981e-01,\n",
       "       5.76668726e-01, 5.87785771e-01, 7.15769376e-01, 8.51851444e-01,\n",
       "       6.78105461e-01, 1.11621318e-01, 1.50411707e-01, 9.53525154e-01,\n",
       "       4.95517760e-01, 5.07800117e-01, 3.81020112e-01, 9.84245628e-01,\n",
       "       5.76682860e-01, 7.62967992e-01, 7.58616002e-01, 8.38867062e-01,\n",
       "       9.10646491e-02, 6.49414300e-01, 5.97294997e-01, 4.05427678e-01,\n",
       "       1.37087143e-01, 5.11878160e-01, 5.75850994e-01, 9.31706744e-01,\n",
       "       6.08072565e-01, 7.96200588e-01, 7.61108945e-01, 6.24736399e-01,\n",
       "       7.48711835e-01, 5.17047717e-01, 1.52562714e-01, 3.16697924e-01,\n",
       "       4.57468094e-01, 6.06901394e-01, 4.05485647e-01, 2.87408915e-01,\n",
       "       7.73228281e-01, 9.83014967e-01, 3.39538059e-01, 1.30779347e-01,\n",
       "       7.47460331e-01, 4.93665252e-01, 1.81122063e-01, 8.27687574e-01,\n",
       "       7.15052403e-01, 5.32286320e-02, 4.77123458e-01, 3.74014082e-01,\n",
       "       9.34213551e-02, 8.54009204e-01, 5.03391074e-01, 3.78736230e-01,\n",
       "       7.31337766e-01, 9.43047570e-02, 6.10997961e-02, 7.42196891e-01,\n",
       "       5.93421569e-01, 5.15615821e-01, 4.31349113e-01, 2.76889272e-01,\n",
       "       3.92064037e-01, 8.68680410e-01, 5.24531340e-01, 1.46807049e-01,\n",
       "       2.32577079e-01, 5.12308502e-01, 6.67537459e-01, 2.86710063e-01,\n",
       "       2.51023759e-01, 2.38533272e-01, 6.57045165e-01, 8.22481512e-02,\n",
       "       1.84945765e-01, 5.60355231e-01, 8.73216544e-01, 3.50564548e-01,\n",
       "       1.11295867e-01, 5.85561150e-01, 9.83862857e-01, 2.41239865e-01,\n",
       "       7.48835427e-01, 7.39631740e-01, 9.83927995e-01, 1.80938073e-01,\n",
       "       3.85145456e-01, 8.24922569e-01, 2.75298042e-01, 7.89721955e-01,\n",
       "       9.33583513e-01, 6.70376315e-02, 3.41559323e-01, 8.63624971e-01,\n",
       "       5.95985178e-01, 9.12767969e-01, 1.40087126e-01, 6.18535160e-01,\n",
       "       2.86327806e-01, 1.82500877e-01, 6.62237500e-01, 5.38608481e-01,\n",
       "       9.50975111e-01, 7.64824836e-01, 4.90483068e-01, 7.81536184e-01])"
      ]
     },
     "execution_count": 47,
     "metadata": {},
     "output_type": "execute_result"
    }
   ],
   "source": [
    "np.random.rand(1000)"
   ]
  },
  {
   "cell_type": "code",
   "execution_count": 63,
   "id": "b94fd778-8ae3-40e3-b137-7133d1fdacf3",
   "metadata": {},
   "outputs": [],
   "source": [
    "a = np.random.randn(10, 20)"
   ]
  },
  {
   "cell_type": "code",
   "execution_count": 64,
   "id": "c197f007-45c8-487d-8fd5-199b242f57a7",
   "metadata": {},
   "outputs": [
    {
     "data": {
      "image/png": "[encoded data removed]",
      "text/plain": [
       "<Figure size 640x480 with 2 Axes>"
      ]
     },
     "metadata": {},
     "output_type": "display_data"
    }
   ],
   "source": [
    "import matplotlib.pyplot as plt\n",
    "plt.imshow(a)\n",
    "plt.colorbar()\n",
    "plt.show()"
   ]
  },
  {
   "cell_type": "code",
   "execution_count": 67,
   "id": "f3c2cd7e-c12c-477e-a00f-0ada561e408b",
   "metadata": {},
   "outputs": [
    {
     "data": {
      "image/png": "[encoded data removed]",
      "text/plain": [
       "<Figure size 640x480 with 1 Axes>"
      ]
     },
     "metadata": {},
     "output_type": "display_data"
    }
   ],
   "source": [
    "plt.hist(a, bins=5)\n",
    "plt.show()"
   ]
  },
  {
   "cell_type": "code",
   "execution_count": 70,
   "id": "69ff3187-2cbe-490e-8619-f8ceac855829",
   "metadata": {},
   "outputs": [
    {
     "data": {
      "text/plain": [
       "(array([1., 0., 0., ..., 1., 0., 2.]),\n",
       " array([-4.53065624, -4.52605495, -4.52145367, ...,  4.6627113 ,\n",
       "         4.66731258,  4.67191387]),\n",
       " <BarContainer object of 2000 artists>)"
      ]
     },
     "execution_count": 70,
     "metadata": {},
     "output_type": "execute_result"
    },
    {
     "data": {
      "image/png": "[encoded data removed]",
      "text/plain": [
       "<Figure size 640x480 with 1 Axes>"
      ]
     },
     "metadata": {},
     "output_type": "display_data"
    }
   ],
   "source": [
    "b = np.random.randn(1000000)\n",
    "plt.hist(b, bins=2000)"
   ]
  },
  {
   "cell_type": "code",
   "execution_count": 71,
   "id": "889fd2bf-89f2-4cd6-a9f0-3a202c7ca3ba",
   "metadata": {},
   "outputs": [
    {
     "data": {
      "text/plain": [
       "array([[0.3149963 , 0.03647528, 0.74155417],\n",
       "       [0.73690937, 0.65592295, 0.77273107]])"
      ]
     },
     "execution_count": 71,
     "metadata": {},
     "output_type": "execute_result"
    }
   ],
   "source": [
    "c = np.random.rand(2, 3)\n",
    "c"
   ]
  },
  {
   "cell_type": "code",
   "execution_count": 72,
   "id": "82cfce5c-176a-475f-985b-693fadc7d378",
   "metadata": {},
   "outputs": [
    {
     "data": {
      "text/plain": [
       "2"
      ]
     },
     "execution_count": 72,
     "metadata": {},
     "output_type": "execute_result"
    }
   ],
   "source": [
    "c.ndim"
   ]
  },
  {
   "cell_type": "code",
   "execution_count": 73,
   "id": "566f4e68-4bfa-4fce-829d-60eeb813e13d",
   "metadata": {},
   "outputs": [
    {
     "data": {
      "text/plain": [
       "(2, 3)"
      ]
     },
     "execution_count": 73,
     "metadata": {},
     "output_type": "execute_result"
    }
   ],
   "source": [
    "c.shape"
   ]
  },
  {
   "cell_type": "code",
   "execution_count": 74,
   "id": "a10808e9-7382-422b-a0de-fd768c1038b3",
   "metadata": {},
   "outputs": [
    {
     "data": {
      "text/plain": [
       "array([[0.3149963 , 0.03647528],\n",
       "       [0.74155417, 0.73690937],\n",
       "       [0.65592295, 0.77273107]])"
      ]
     },
     "execution_count": 74,
     "metadata": {},
     "output_type": "execute_result"
    }
   ],
   "source": [
    "c.reshape(3, 2)"
   ]
  },
  {
   "cell_type": "code",
   "execution_count": 75,
   "id": "be3740d6-6324-440f-b78c-451b7e857e7b",
   "metadata": {},
   "outputs": [
    {
     "data": {
      "text/plain": [
       "array([[ 0,  1,  2,  3,  4,  5,  6,  7,  8,  9, 10, 11, 12, 13, 14, 15,\n",
       "        16, 17, 18, 19, 20, 21, 22, 23, 24],\n",
       "       [25, 26, 27, 28, 29, 30, 31, 32, 33, 34, 35, 36, 37, 38, 39, 40,\n",
       "        41, 42, 43, 44, 45, 46, 47, 48, 49],\n",
       "       [50, 51, 52, 53, 54, 55, 56, 57, 58, 59, 60, 61, 62, 63, 64, 65,\n",
       "        66, 67, 68, 69, 70, 71, 72, 73, 74],\n",
       "       [75, 76, 77, 78, 79, 80, 81, 82, 83, 84, 85, 86, 87, 88, 89, 90,\n",
       "        91, 92, 93, 94, 95, 96, 97, 98, 99]])"
      ]
     },
     "execution_count": 75,
     "metadata": {},
     "output_type": "execute_result"
    }
   ],
   "source": [
    "np.arange(100).reshape(4, 25)"
   ]
  },
  {
   "cell_type": "code",
   "execution_count": 84,
   "id": "6ba4a9f9-b017-497c-b672-1dc1c4599fa3",
   "metadata": {},
   "outputs": [
    {
     "data": {
      "text/plain": [
       "array([ 0,  1,  2,  3,  4,  5,  6,  7,  8,  9, 10, 11, 12, 13, 14, 15, 16,\n",
       "       17, 18, 19, 20, 21, 22, 23, 24, 25, 26, 27, 28, 29, 30, 31, 32, 33,\n",
       "       34, 35, 36, 37, 38, 39, 40, 41, 42, 43, 44, 45, 46, 47, 48, 49, 50,\n",
       "       51, 52, 53, 54, 55, 56, 57, 58, 59, 60, 61, 62, 63, 64, 65, 66, 67,\n",
       "       68, 69, 70, 71, 72, 73, 74, 75, 76, 77, 78, 79, 80, 81, 82, 83, 84,\n",
       "       85, 86, 87, 88, 89, 90, 91, 92, 93, 94, 95, 96, 97, 98, 99])"
      ]
     },
     "execution_count": 84,
     "metadata": {},
     "output_type": "execute_result"
    }
   ],
   "source": [
    "a = np.arange(100)\n",
    "b = a[:10]\n",
    "a"
   ]
  },
  {
   "cell_type": "code",
   "execution_count": 85,
   "id": "3af58a7c-90f4-4855-b4c8-5cfa5c94b0ae",
   "metadata": {},
   "outputs": [],
   "source": [
    "b[0] = -1200"
   ]
  },
  {
   "cell_type": "code",
   "execution_count": 92,
   "id": "aa6f4228-745d-49a5-ba8e-22e896dea6ec",
   "metadata": {},
   "outputs": [
    {
     "data": {
      "text/plain": [
       "array([-1200,     1,     2,     3,     4,     5,     6,     7,     8,\n",
       "           9,    10,    11,    12,    13,    14,    15,    16,    17,\n",
       "          18,    19,    20,    21,    22,    23,    24,    25,    26,\n",
       "          27,    28,    29,    30,    31,    32,    33,    34,    35,\n",
       "          36,    37,    38,    39,    40,    41,    42,    43,    44,\n",
       "          45,    46,    47,    48,    49,    50,    51,    52,    53,\n",
       "          54,    55,    56,    57,    58,    59,    60,    61,    62,\n",
       "          63,    64,    65,    66,    67,    68,    69,    70,    71,\n",
       "          72,    73,    74,    75,    76,    77,    78,    79,    80,\n",
       "          81,    82,    83,    84,    85,    86,    87,    88,    89,\n",
       "          90,    91,    92,    93,    94,    95,    96,    97,    98,\n",
       "          99])"
      ]
     },
     "execution_count": 92,
     "metadata": {},
     "output_type": "execute_result"
    }
   ],
   "source": [
    "a"
   ]
  },
  {
   "cell_type": "code",
   "execution_count": 87,
   "id": "edf62c2f-fc46-499f-8a5f-899c498f5cf9",
   "metadata": {},
   "outputs": [],
   "source": [
    "b = a[11:20].copy()"
   ]
  },
  {
   "cell_type": "code",
   "execution_count": 88,
   "id": "35663731-efdf-443b-9018-64ebc95c76c3",
   "metadata": {},
   "outputs": [],
   "source": [
    "b[0] = -1111111"
   ]
  },
  {
   "cell_type": "code",
   "execution_count": 89,
   "id": "4718b8f4-64eb-4955-ae0f-58653f9fc39c",
   "metadata": {},
   "outputs": [
    {
     "data": {
      "text/plain": [
       "array([11, 12, 13, 14, 15, 16, 17, 18, 19])"
      ]
     },
     "execution_count": 89,
     "metadata": {},
     "output_type": "execute_result"
    }
   ],
   "source": [
    "a[11:20]"
   ]
  },
  {
   "cell_type": "code",
   "execution_count": 99,
   "id": "c31a3314-aeea-48a4-8b2e-38793c576c28",
   "metadata": {},
   "outputs": [
    {
     "data": {
      "text/plain": [
       "array([-1200])"
      ]
     },
     "execution_count": 99,
     "metadata": {},
     "output_type": "execute_result"
    }
   ],
   "source": [
    "b = a==-1200\n",
    "a[b]"
   ]
  },
  {
   "cell_type": "code",
   "execution_count": 100,
   "id": "88cfc29c-a3fc-49d3-a457-b6a12b51a7c4",
   "metadata": {},
   "outputs": [
    {
     "data": {
      "text/plain": [
       "array([31, 32, 33, 34, 35, 36, 37, 38, 39])"
      ]
     },
     "execution_count": 100,
     "metadata": {},
     "output_type": "execute_result"
    }
   ],
   "source": [
    "b = np.arange(31, 40)\n",
    "b"
   ]
  },
  {
   "cell_type": "code",
   "execution_count": 101,
   "id": "90064c88-92ca-487f-8080-d11b7b62d47c",
   "metadata": {},
   "outputs": [
    {
     "data": {
      "text/plain": [
       "array([[3., 9., 4.],\n",
       "       [4., 3., 6.]])"
      ]
     },
     "execution_count": 101,
     "metadata": {},
     "output_type": "execute_result"
    }
   ],
   "source": [
    "a = np.round(10*np.random.rand(2, 3))\n",
    "a"
   ]
  },
  {
   "cell_type": "code",
   "execution_count": 102,
   "id": "cd13cb75-f9f6-4803-a3e2-86d70583222e",
   "metadata": {},
   "outputs": [
    {
     "data": {
      "text/plain": [
       "array([[ 6., 12.,  7.],\n",
       "       [ 7.,  6.,  9.]])"
      ]
     },
     "execution_count": 102,
     "metadata": {},
     "output_type": "execute_result"
    }
   ],
   "source": [
    "a+3"
   ]
  },
  {
   "cell_type": "code",
   "execution_count": 103,
   "id": "a959a6e9-9c0b-4669-bda7-27e853bfab48",
   "metadata": {},
   "outputs": [
    {
     "data": {
      "text/plain": [
       "array([[3., 9., 4.],\n",
       "       [5., 4., 7.]])"
      ]
     },
     "execution_count": 103,
     "metadata": {},
     "output_type": "execute_result"
    }
   ],
   "source": [
    "a + (np.arange(2).reshape(2, 1))"
   ]
  },
  {
   "cell_type": "code",
   "execution_count": 104,
   "id": "21a19d8e-1f2c-427d-b1a5-757461431242",
   "metadata": {},
   "outputs": [],
   "source": [
    "b = np.round(10*np.random.rand(2, 2))"
   ]
  },
  {
   "cell_type": "code",
   "execution_count": 105,
   "id": "64e0c870-7c94-4515-898a-221f9c4db32a",
   "metadata": {},
   "outputs": [
    {
     "data": {
      "text/plain": [
       "array([[3., 9., 4.],\n",
       "       [4., 3., 6.]])"
      ]
     },
     "execution_count": 105,
     "metadata": {},
     "output_type": "execute_result"
    }
   ],
   "source": [
    "a"
   ]
  },
  {
   "cell_type": "code",
   "execution_count": 106,
   "id": "64138c8d-43e0-40fc-a4ac-ab54d61f2697",
   "metadata": {},
   "outputs": [
    {
     "data": {
      "text/plain": [
       "array([[ 6., 10.],\n",
       "       [ 1.,  2.]])"
      ]
     },
     "execution_count": 106,
     "metadata": {},
     "output_type": "execute_result"
    }
   ],
   "source": [
    "b"
   ]
  },
  {
   "cell_type": "code",
   "execution_count": 109,
   "id": "c0474f89-7f6c-48af-a21e-a83b7261a89b",
   "metadata": {},
   "outputs": [
    {
     "data": {
      "text/plain": [
       "array([[ 3.,  9.,  4.,  6., 10.],\n",
       "       [ 4.,  3.,  6.,  1.,  2.]])"
      ]
     },
     "execution_count": 109,
     "metadata": {},
     "output_type": "execute_result"
    }
   ],
   "source": [
    "c = np.hstack((a, b))\n",
    "c"
   ]
  },
  {
   "cell_type": "code",
   "execution_count": 110,
   "id": "72f2db2d-00f3-460f-8c96-226e9361b230",
   "metadata": {},
   "outputs": [],
   "source": [
    "a = np.array(['abc', 'howare', 'you', '12er'])"
   ]
  },
  {
   "cell_type": "code",
   "execution_count": 111,
   "id": "c4556365-0648-4548-99ca-82439be64552",
   "metadata": {},
   "outputs": [],
   "source": [
    "a.sort()"
   ]
  },
  {
   "cell_type": "code",
   "execution_count": 112,
   "id": "d27e114a-00eb-44c1-9a28-dfb17802d6fa",
   "metadata": {},
   "outputs": [
    {
     "data": {
      "text/plain": [
       "array(['12er', 'abc', 'howare', 'you'], dtype='<U6')"
      ]
     },
     "execution_count": 112,
     "metadata": {},
     "output_type": "execute_result"
    }
   ],
   "source": [
    "a"
   ]
  },
  {
   "cell_type": "markdown",
   "id": "11342ca1-00b6-4a37-8469-3ae047216ea0",
   "metadata": {},
   "source": [
    "### unfuncs:"
   ]
  },
  {
   "cell_type": "code",
   "execution_count": 113,
   "id": "d9f23ee6-8325-4ae8-a223-f0c82f4d669e",
   "metadata": {},
   "outputs": [
    {
     "name": "stdout",
     "output_type": "stream",
     "text": [
      "4.56 ms ± 193 µs per loop (mean ± std. dev. of 7 runs, 100 loops each)\n",
      "21.9 µs ± 684 ns per loop (mean ± std. dev. of 7 runs, 10,000 loops each)\n"
     ]
    }
   ],
   "source": [
    "import time\n",
    "b = np.random.rand(100000)\n",
    "%timeit sum(b)\n",
    "%timeit np.sum(b)"
   ]
  },
  {
   "cell_type": "code",
   "execution_count": null,
   "id": "1f062a84-35ef-44f3-bd11-4b7dfef5eed8",
   "metadata": {},
   "outputs": [],
   "source": []
  }
 ],
 "metadata": {
  "kernelspec": {
   "display_name": "Python 3 (ipykernel)",
   "language": "python",
   "name": "python3"
  },
  "language_info": {
   "codemirror_mode": {
    "name": "ipython",
    "version": 3
   },
   "file_extension": ".py",
   "mimetype": "text/x-python",
   "name": "python",
   "nbconvert_exporter": "python",
   "pygments_lexer": "ipython3",
   "version": "3.10.12"
  }
 },
 "nbformat": 4,
 "nbformat_minor": 5
}
