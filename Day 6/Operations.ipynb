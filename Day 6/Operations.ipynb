{
 "cells": [
  {
   "cell_type": "code",
   "execution_count": 1,
   "id": "9c69a3da-751b-4a93-a495-0c57d7bd5e01",
   "metadata": {},
   "outputs": [],
   "source": [
    "import numpy as np"
   ]
  },
  {
   "cell_type": "code",
   "execution_count": 2,
   "id": "5f57db50-1f97-4910-b25f-eb63a7e8345d",
   "metadata": {},
   "outputs": [
    {
     "data": {
      "text/plain": [
       "array([[ 8.,  9.,  4.,  5.],\n",
       "       [ 8.,  0.,  3.,  3.],\n",
       "       [ 9.,  7.,  5., 10.],\n",
       "       [ 4.,  8.,  5.,  8.],\n",
       "       [ 4.,  4.,  6.,  6.]])"
      ]
     },
     "execution_count": 2,
     "metadata": {},
     "output_type": "execute_result"
    }
   ],
   "source": [
    "a = np.round(10*np.random.rand(5, 4))\n",
    "a"
   ]
  },
  {
   "cell_type": "code",
   "execution_count": 3,
   "id": "0b1e3bea-dedd-4ac5-8bf7-2017b58520f0",
   "metadata": {},
   "outputs": [
    {
     "data": {
      "text/plain": [
       "3.0"
      ]
     },
     "execution_count": 3,
     "metadata": {},
     "output_type": "execute_result"
    }
   ],
   "source": [
    "a[1, 2]"
   ]
  },
  {
   "cell_type": "code",
   "execution_count": 4,
   "id": "6b846eb8-b7d1-4945-bd5e-d4bad66484d6",
   "metadata": {},
   "outputs": [
    {
     "data": {
      "text/plain": [
       "array([9., 0., 7., 8., 4.])"
      ]
     },
     "execution_count": 4,
     "metadata": {},
     "output_type": "execute_result"
    }
   ],
   "source": [
    "a[:, 1]"
   ]
  },
  {
   "cell_type": "code",
   "execution_count": 5,
   "id": "e1b8249e-bbf0-44c7-b986-75a187adf2db",
   "metadata": {},
   "outputs": [
    {
     "data": {
      "text/plain": [
       "array([ 9.,  7.,  5., 10.])"
      ]
     },
     "execution_count": 5,
     "metadata": {},
     "output_type": "execute_result"
    }
   ],
   "source": [
    "a[2, :]"
   ]
  },
  {
   "cell_type": "code",
   "execution_count": 7,
   "id": "5cc118e1-475a-4fdb-b726-d997df6779e5",
   "metadata": {},
   "outputs": [
    {
     "data": {
      "text/plain": [
       "array([[ 8.,  8.,  9.,  4.,  4.],\n",
       "       [ 9.,  0.,  7.,  8.,  4.],\n",
       "       [ 4.,  3.,  5.,  5.,  6.],\n",
       "       [ 5.,  3., 10.,  8.,  6.]])"
      ]
     },
     "execution_count": 7,
     "metadata": {},
     "output_type": "execute_result"
    }
   ],
   "source": [
    "a.T # tranpose of a matrix"
   ]
  },
  {
   "cell_type": "code",
   "execution_count": 8,
   "id": "3240d5c9-8037-4943-81ed-6393199fc1ab",
   "metadata": {},
   "outputs": [],
   "source": [
    "import numpy.linalg as la"
   ]
  },
  {
   "cell_type": "code",
   "execution_count": 11,
   "id": "d4932136-da18-4e2e-b702-4a2e20bb3c3c",
   "metadata": {},
   "outputs": [
    {
     "data": {
      "text/plain": [
       "array([[ 6.,  6.,  4.,  4.],\n",
       "       [ 8.,  5.,  8.,  4.],\n",
       "       [10.,  5.,  7.,  9.],\n",
       "       [ 3.,  3.,  0.,  8.],\n",
       "       [ 5.,  4.,  9.,  8.]])"
      ]
     },
     "execution_count": 11,
     "metadata": {},
     "output_type": "execute_result"
    }
   ],
   "source": [
    "a[::-1, ::-1]"
   ]
  },
  {
   "cell_type": "code",
   "execution_count": null,
   "id": "cc104830-0185-4373-ac52-810a4259f5b3",
   "metadata": {},
   "outputs": [],
   "source": []
  }
 ],
 "metadata": {
  "kernelspec": {
   "display_name": "Python 3 (ipykernel)",
   "language": "python",
   "name": "python3"
  },
  "language_info": {
   "codemirror_mode": {
    "name": "ipython",
    "version": 3
   },
   "file_extension": ".py",
   "mimetype": "text/x-python",
   "name": "python",
   "nbconvert_exporter": "python",
   "pygments_lexer": "ipython3",
   "version": "3.10.12"
  }
 },
 "nbformat": 4,
 "nbformat_minor": 5
}
